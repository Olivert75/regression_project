{
 "cells": [
  {
   "cell_type": "code",
   "execution_count": 37,
   "id": "a7f90131-38f2-4333-8fa8-ebad364fbeb0",
   "metadata": {},
   "outputs": [],
   "source": [
    "#import stuff we will need\n",
    "import warnings\n",
    "warnings.filterwarnings(\"ignore\")\n",
    "import seaborn as sns\n",
    "import pandas as pd\n",
    "import matplotlib.pyplot as plt\n",
    "import numpy as np\n",
    "from scipy import stats\n",
    "\n",
    "from sklearn.feature_selection import SelectKBest, f_regression, RFE\n",
    "from sklearn.model_selection import train_test_split\n",
    "from sklearn.preprocessing import MinMaxScaler, RobustScaler\n",
    "from sklearn.linear_model import LinearRegression, LassoLars, TweedieRegressor\n",
    "from sklearn.preprocessing import PolynomialFeatures\n",
    "from sklearn.metrics import mean_squared_error, r2_score, explained_variance_score\n",
    "\n",
    "#import functions from my .py files\n",
    "import acquire\n",
    "import prepare \n",
    "import explore \n",
    "import evaluate \n",
    "import model as m\n",
    "#Might needed or might be not \n",
    "import wrangle"
   ]
  },
  {
   "cell_type": "code",
   "execution_count": 2,
   "id": "f3098233-e298-4dea-8106-bb6c2ecf0db6",
   "metadata": {},
   "outputs": [],
   "source": [
    "#acquire our Zillow data from CodeUp server, and turn into .csv\n",
    "df = acquire.get_zillow_data()"
   ]
  },
  {
   "cell_type": "code",
   "execution_count": 3,
   "id": "653fa499-58e4-48b8-9b6f-13e6accb1272",
   "metadata": {},
   "outputs": [
    {
     "data": {
      "text/html": [
       "<div>\n",
       "<style scoped>\n",
       "    .dataframe tbody tr th:only-of-type {\n",
       "        vertical-align: middle;\n",
       "    }\n",
       "\n",
       "    .dataframe tbody tr th {\n",
       "        vertical-align: top;\n",
       "    }\n",
       "\n",
       "    .dataframe thead th {\n",
       "        text-align: right;\n",
       "    }\n",
       "</style>\n",
       "<table border=\"1\" class=\"dataframe\">\n",
       "  <thead>\n",
       "    <tr style=\"text-align: right;\">\n",
       "      <th></th>\n",
       "      <th>parcelid</th>\n",
       "      <th>bedroomcnt</th>\n",
       "      <th>bathroomcnt</th>\n",
       "      <th>calculatedfinishedsquarefeet</th>\n",
       "      <th>taxvaluedollarcnt</th>\n",
       "      <th>yearbuilt</th>\n",
       "      <th>fips</th>\n",
       "    </tr>\n",
       "  </thead>\n",
       "  <tbody>\n",
       "    <tr>\n",
       "      <th>0</th>\n",
       "      <td>14297519</td>\n",
       "      <td>4.0</td>\n",
       "      <td>3.5</td>\n",
       "      <td>3100.0</td>\n",
       "      <td>1023282.0</td>\n",
       "      <td>1998.0</td>\n",
       "      <td>6059.0</td>\n",
       "    </tr>\n",
       "    <tr>\n",
       "      <th>1</th>\n",
       "      <td>17052889</td>\n",
       "      <td>2.0</td>\n",
       "      <td>1.0</td>\n",
       "      <td>1465.0</td>\n",
       "      <td>464000.0</td>\n",
       "      <td>1967.0</td>\n",
       "      <td>6111.0</td>\n",
       "    </tr>\n",
       "    <tr>\n",
       "      <th>2</th>\n",
       "      <td>14186244</td>\n",
       "      <td>3.0</td>\n",
       "      <td>2.0</td>\n",
       "      <td>1243.0</td>\n",
       "      <td>564778.0</td>\n",
       "      <td>1962.0</td>\n",
       "      <td>6059.0</td>\n",
       "    </tr>\n",
       "    <tr>\n",
       "      <th>3</th>\n",
       "      <td>12177905</td>\n",
       "      <td>4.0</td>\n",
       "      <td>3.0</td>\n",
       "      <td>2376.0</td>\n",
       "      <td>145143.0</td>\n",
       "      <td>1970.0</td>\n",
       "      <td>6037.0</td>\n",
       "    </tr>\n",
       "    <tr>\n",
       "      <th>4</th>\n",
       "      <td>12095076</td>\n",
       "      <td>4.0</td>\n",
       "      <td>3.0</td>\n",
       "      <td>2962.0</td>\n",
       "      <td>773303.0</td>\n",
       "      <td>1950.0</td>\n",
       "      <td>6037.0</td>\n",
       "    </tr>\n",
       "  </tbody>\n",
       "</table>\n",
       "</div>"
      ],
      "text/plain": [
       "   parcelid  bedroomcnt  bathroomcnt  calculatedfinishedsquarefeet  \\\n",
       "0  14297519         4.0          3.5                        3100.0   \n",
       "1  17052889         2.0          1.0                        1465.0   \n",
       "2  14186244         3.0          2.0                        1243.0   \n",
       "3  12177905         4.0          3.0                        2376.0   \n",
       "4  12095076         4.0          3.0                        2962.0   \n",
       "\n",
       "   taxvaluedollarcnt  yearbuilt    fips  \n",
       "0          1023282.0     1998.0  6059.0  \n",
       "1           464000.0     1967.0  6111.0  \n",
       "2           564778.0     1962.0  6059.0  \n",
       "3           145143.0     1970.0  6037.0  \n",
       "4           773303.0     1950.0  6037.0  "
      ]
     },
     "execution_count": 3,
     "metadata": {},
     "output_type": "execute_result"
    }
   ],
   "source": [
    "df.head()"
   ]
  },
  {
   "cell_type": "code",
   "execution_count": 4,
   "id": "e090a378-ea58-4f0e-9200-da7ea8e1b373",
   "metadata": {},
   "outputs": [
    {
     "name": "stdout",
     "output_type": "stream",
     "text": [
      "<class 'pandas.core.frame.DataFrame'>\n",
      "Int64Index: 52441 entries, 0 to 52440\n",
      "Data columns (total 7 columns):\n",
      " #   Column                        Non-Null Count  Dtype  \n",
      "---  ------                        --------------  -----  \n",
      " 0   parcelid                      52441 non-null  int64  \n",
      " 1   bedroomcnt                    52441 non-null  float64\n",
      " 2   bathroomcnt                   52441 non-null  float64\n",
      " 3   calculatedfinishedsquarefeet  52359 non-null  float64\n",
      " 4   taxvaluedollarcnt             52440 non-null  float64\n",
      " 5   yearbuilt                     52325 non-null  float64\n",
      " 6   fips                          52441 non-null  float64\n",
      "dtypes: float64(6), int64(1)\n",
      "memory usage: 3.2 MB\n"
     ]
    }
   ],
   "source": [
    "df.info()"
   ]
  },
  {
   "cell_type": "code",
   "execution_count": 5,
   "id": "c1ab47dc-720a-4beb-8db7-cf09abdec6d5",
   "metadata": {},
   "outputs": [
    {
     "name": "stdout",
     "output_type": "stream",
     "text": [
      "Your selected dataframe has 7 columns.\n",
      "There are 3 columns that have missing values.\n",
      "  \n",
      "** There are 121 duplicate rows that represents 0.23% of total Values**\n"
     ]
    },
    {
     "data": {
      "text/html": [
       "<div>\n",
       "<style scoped>\n",
       "    .dataframe tbody tr th:only-of-type {\n",
       "        vertical-align: middle;\n",
       "    }\n",
       "\n",
       "    .dataframe tbody tr th {\n",
       "        vertical-align: top;\n",
       "    }\n",
       "\n",
       "    .dataframe thead th {\n",
       "        text-align: right;\n",
       "    }\n",
       "</style>\n",
       "<table border=\"1\" class=\"dataframe\">\n",
       "  <thead>\n",
       "    <tr style=\"text-align: right;\">\n",
       "      <th></th>\n",
       "      <th>Missing Values</th>\n",
       "      <th>% of Total Values</th>\n",
       "    </tr>\n",
       "  </thead>\n",
       "  <tbody>\n",
       "    <tr>\n",
       "      <th>yearbuilt</th>\n",
       "      <td>116</td>\n",
       "      <td>0.2</td>\n",
       "    </tr>\n",
       "    <tr>\n",
       "      <th>calculatedfinishedsquarefeet</th>\n",
       "      <td>82</td>\n",
       "      <td>0.2</td>\n",
       "    </tr>\n",
       "    <tr>\n",
       "      <th>taxvaluedollarcnt</th>\n",
       "      <td>1</td>\n",
       "      <td>0.0</td>\n",
       "    </tr>\n",
       "  </tbody>\n",
       "</table>\n",
       "</div>"
      ],
      "text/plain": [
       "                              Missing Values  % of Total Values\n",
       "yearbuilt                                116                0.2\n",
       "calculatedfinishedsquarefeet              82                0.2\n",
       "taxvaluedollarcnt                          1                0.0"
      ]
     },
     "execution_count": 5,
     "metadata": {},
     "output_type": "execute_result"
    }
   ],
   "source": [
    "#Using wrangle to get null-values check function\n",
    "wrangle.miss_dup_values(df)"
   ]
  },
  {
   "cell_type": "code",
   "execution_count": 6,
   "id": "309f349c-46b2-48c5-8c0b-74a205ec24b2",
   "metadata": {},
   "outputs": [],
   "source": [
    "#Using clean function from prepare\n",
    "df = prepare.clean_zillow(df)"
   ]
  },
  {
   "cell_type": "code",
   "execution_count": 7,
   "id": "3d4f5394-9f4d-4c5f-9a51-656b08037bd3",
   "metadata": {},
   "outputs": [
    {
     "name": "stdout",
     "output_type": "stream",
     "text": [
      "Your selected dataframe has 7 columns.\n",
      "There are 0 columns that have missing values.\n",
      "  \n",
      "** There are 0 duplicate rows that represents 0.0% of total Values**\n"
     ]
    },
    {
     "data": {
      "text/html": [
       "<div>\n",
       "<style scoped>\n",
       "    .dataframe tbody tr th:only-of-type {\n",
       "        vertical-align: middle;\n",
       "    }\n",
       "\n",
       "    .dataframe tbody tr th {\n",
       "        vertical-align: top;\n",
       "    }\n",
       "\n",
       "    .dataframe thead th {\n",
       "        text-align: right;\n",
       "    }\n",
       "</style>\n",
       "<table border=\"1\" class=\"dataframe\">\n",
       "  <thead>\n",
       "    <tr style=\"text-align: right;\">\n",
       "      <th></th>\n",
       "      <th>Missing Values</th>\n",
       "      <th>% of Total Values</th>\n",
       "    </tr>\n",
       "  </thead>\n",
       "  <tbody>\n",
       "  </tbody>\n",
       "</table>\n",
       "</div>"
      ],
      "text/plain": [
       "Empty DataFrame\n",
       "Columns: [Missing Values, % of Total Values]\n",
       "Index: []"
      ]
     },
     "execution_count": 7,
     "metadata": {},
     "output_type": "execute_result"
    }
   ],
   "source": [
    "#Check again after cleanning\n",
    "wrangle.miss_dup_values(df)"
   ]
  },
  {
   "cell_type": "code",
   "execution_count": 8,
   "id": "8fce6bd6-4ed5-46c3-aeb7-61281154cd29",
   "metadata": {},
   "outputs": [
    {
     "name": "stdout",
     "output_type": "stream",
     "text": [
      "<class 'pandas.core.frame.DataFrame'>\n",
      "Int64Index: 52200 entries, 0 to 52440\n",
      "Data columns (total 7 columns):\n",
      " #   Column           Non-Null Count  Dtype  \n",
      "---  ------           --------------  -----  \n",
      " 0   parcel_id        52200 non-null  object \n",
      " 1   number_bedroom   52200 non-null  float64\n",
      " 2   number_bathroom  52200 non-null  float64\n",
      " 3   sqft             52200 non-null  float64\n",
      " 4   tax_value        52200 non-null  float64\n",
      " 5   yearbuilt        52200 non-null  float64\n",
      " 6   geographic_code  52200 non-null  int64  \n",
      "dtypes: float64(5), int64(1), object(1)\n",
      "memory usage: 3.2+ MB\n"
     ]
    }
   ],
   "source": [
    "df.info()"
   ]
  },
  {
   "cell_type": "code",
   "execution_count": 9,
   "id": "99ff3673-e30f-4e50-b786-b3818147b75e",
   "metadata": {},
   "outputs": [
    {
     "name": "stdout",
     "output_type": "stream",
     "text": [
      "************************** COUNT OF UNIQUE VALUES ************************** \n",
      "Columns\n",
      " \n",
      "parcel_id --> 52200 unique values\n",
      " \n",
      "number_bedroom --> 14 unique values\n",
      " \n",
      "number_bathroom --> 22 unique values\n",
      " \n",
      "sqft --> 4720 unique values\n",
      " \n",
      "tax_value --> 38847 unique values\n",
      " \n",
      "yearbuilt --> 133 unique values\n",
      " \n",
      "geographic_code --> 3 unique values\n",
      " \n",
      " **************************  UNIQUE VALUES **************************\n",
      " \n",
      "Uniques values of all the columns that have less than 30 unique values \n",
      " \n",
      "number_bedroom\n",
      "0.0        57\n",
      "1.0       604\n",
      "2.0      8310\n",
      "3.0     23292\n",
      "4.0     15198\n",
      "5.0      3964\n",
      "6.0       632\n",
      "7.0       106\n",
      "8.0        24\n",
      "9.0         8\n",
      "10.0        2\n",
      "11.0        1\n",
      "12.0        1\n",
      "14.0        1\n",
      "Name: number_bedroom, dtype: int64\n",
      "--------------------------- \n",
      " \n",
      "number_bathroom\n",
      "0.0        41\n",
      "1.0      9521\n",
      "1.5       838\n",
      "2.0     21835\n",
      "2.5      3929\n",
      "3.0     10643\n",
      "3.5       911\n",
      "4.0      2225\n",
      "4.5       681\n",
      "5.0       803\n",
      "5.5       224\n",
      "6.0       320\n",
      "6.5        47\n",
      "7.0        88\n",
      "7.5        16\n",
      "8.0        53\n",
      "8.5         2\n",
      "9.0        13\n",
      "10.0        5\n",
      "11.0        3\n",
      "13.0        1\n",
      "18.0        1\n",
      "Name: number_bathroom, dtype: int64\n",
      "--------------------------- \n",
      " \n",
      "geographic_code\n",
      "6037    33794\n",
      "6059    14058\n",
      "6111     4348\n",
      "Name: geographic_code, dtype: int64\n",
      "--------------------------- \n",
      " \n"
     ]
    }
   ],
   "source": [
    "prepare.unique_cntvalues(df, 30)"
   ]
  },
  {
   "cell_type": "code",
   "execution_count": 10,
   "id": "12b1e129-2d18-4b41-94b8-acea03c3ace1",
   "metadata": {},
   "outputs": [
    {
     "data": {
      "text/html": [
       "<div>\n",
       "<style scoped>\n",
       "    .dataframe tbody tr th:only-of-type {\n",
       "        vertical-align: middle;\n",
       "    }\n",
       "\n",
       "    .dataframe tbody tr th {\n",
       "        vertical-align: top;\n",
       "    }\n",
       "\n",
       "    .dataframe thead th {\n",
       "        text-align: right;\n",
       "    }\n",
       "</style>\n",
       "<table border=\"1\" class=\"dataframe\">\n",
       "  <thead>\n",
       "    <tr style=\"text-align: right;\">\n",
       "      <th></th>\n",
       "      <th>parcel_id</th>\n",
       "      <th>number_bedroom</th>\n",
       "      <th>number_bathroom</th>\n",
       "      <th>sqft</th>\n",
       "      <th>tax_value</th>\n",
       "      <th>yearbuilt</th>\n",
       "      <th>geographic_code</th>\n",
       "    </tr>\n",
       "  </thead>\n",
       "  <tbody>\n",
       "    <tr>\n",
       "      <th>2694</th>\n",
       "      <td>12227894</td>\n",
       "      <td>0.0</td>\n",
       "      <td>0.0</td>\n",
       "      <td>1208.0</td>\n",
       "      <td>185161.0</td>\n",
       "      <td>1990.0</td>\n",
       "      <td>6037</td>\n",
       "    </tr>\n",
       "    <tr>\n",
       "      <th>2899</th>\n",
       "      <td>12146026</td>\n",
       "      <td>0.0</td>\n",
       "      <td>0.0</td>\n",
       "      <td>280.0</td>\n",
       "      <td>963472.0</td>\n",
       "      <td>1953.0</td>\n",
       "      <td>6037</td>\n",
       "    </tr>\n",
       "    <tr>\n",
       "      <th>6132</th>\n",
       "      <td>12664381</td>\n",
       "      <td>0.0</td>\n",
       "      <td>0.0</td>\n",
       "      <td>128.0</td>\n",
       "      <td>49859.0</td>\n",
       "      <td>1949.0</td>\n",
       "      <td>6037</td>\n",
       "    </tr>\n",
       "    <tr>\n",
       "      <th>10294</th>\n",
       "      <td>14121842</td>\n",
       "      <td>0.0</td>\n",
       "      <td>0.0</td>\n",
       "      <td>1454.0</td>\n",
       "      <td>151824.0</td>\n",
       "      <td>1912.0</td>\n",
       "      <td>6059</td>\n",
       "    </tr>\n",
       "    <tr>\n",
       "      <th>15658</th>\n",
       "      <td>11953654</td>\n",
       "      <td>0.0</td>\n",
       "      <td>0.0</td>\n",
       "      <td>812.0</td>\n",
       "      <td>22102.0</td>\n",
       "      <td>1924.0</td>\n",
       "      <td>6037</td>\n",
       "    </tr>\n",
       "    <tr>\n",
       "      <th>16561</th>\n",
       "      <td>13841412</td>\n",
       "      <td>0.0</td>\n",
       "      <td>0.0</td>\n",
       "      <td>1567.0</td>\n",
       "      <td>226597.0</td>\n",
       "      <td>1914.0</td>\n",
       "      <td>6059</td>\n",
       "    </tr>\n",
       "    <tr>\n",
       "      <th>17766</th>\n",
       "      <td>11712886</td>\n",
       "      <td>0.0</td>\n",
       "      <td>0.0</td>\n",
       "      <td>3087.0</td>\n",
       "      <td>631299.0</td>\n",
       "      <td>1947.0</td>\n",
       "      <td>6037</td>\n",
       "    </tr>\n",
       "    <tr>\n",
       "      <th>20987</th>\n",
       "      <td>12038635</td>\n",
       "      <td>0.0</td>\n",
       "      <td>0.0</td>\n",
       "      <td>554.0</td>\n",
       "      <td>440000.0</td>\n",
       "      <td>1927.0</td>\n",
       "      <td>6037</td>\n",
       "    </tr>\n",
       "    <tr>\n",
       "      <th>21456</th>\n",
       "      <td>11266326</td>\n",
       "      <td>0.0</td>\n",
       "      <td>0.0</td>\n",
       "      <td>400.0</td>\n",
       "      <td>49627.0</td>\n",
       "      <td>1950.0</td>\n",
       "      <td>6037</td>\n",
       "    </tr>\n",
       "    <tr>\n",
       "      <th>22910</th>\n",
       "      <td>14507431</td>\n",
       "      <td>0.0</td>\n",
       "      <td>0.0</td>\n",
       "      <td>4184.0</td>\n",
       "      <td>1145602.0</td>\n",
       "      <td>1964.0</td>\n",
       "      <td>6059</td>\n",
       "    </tr>\n",
       "    <tr>\n",
       "      <th>24827</th>\n",
       "      <td>12153898</td>\n",
       "      <td>0.0</td>\n",
       "      <td>0.0</td>\n",
       "      <td>682.0</td>\n",
       "      <td>29361.0</td>\n",
       "      <td>1972.0</td>\n",
       "      <td>6037</td>\n",
       "    </tr>\n",
       "    <tr>\n",
       "      <th>26051</th>\n",
       "      <td>12554886</td>\n",
       "      <td>0.0</td>\n",
       "      <td>0.0</td>\n",
       "      <td>1064.0</td>\n",
       "      <td>226328.0</td>\n",
       "      <td>1911.0</td>\n",
       "      <td>6037</td>\n",
       "    </tr>\n",
       "    <tr>\n",
       "      <th>27346</th>\n",
       "      <td>11676853</td>\n",
       "      <td>0.0</td>\n",
       "      <td>0.0</td>\n",
       "      <td>660.0</td>\n",
       "      <td>746757.0</td>\n",
       "      <td>1928.0</td>\n",
       "      <td>6037</td>\n",
       "    </tr>\n",
       "    <tr>\n",
       "      <th>27719</th>\n",
       "      <td>12444585</td>\n",
       "      <td>0.0</td>\n",
       "      <td>0.0</td>\n",
       "      <td>738.0</td>\n",
       "      <td>84701.0</td>\n",
       "      <td>1942.0</td>\n",
       "      <td>6037</td>\n",
       "    </tr>\n",
       "    <tr>\n",
       "      <th>30595</th>\n",
       "      <td>11679076</td>\n",
       "      <td>0.0</td>\n",
       "      <td>0.0</td>\n",
       "      <td>1820.0</td>\n",
       "      <td>1034512.0</td>\n",
       "      <td>1939.0</td>\n",
       "      <td>6037</td>\n",
       "    </tr>\n",
       "    <tr>\n",
       "      <th>34721</th>\n",
       "      <td>11283520</td>\n",
       "      <td>0.0</td>\n",
       "      <td>0.0</td>\n",
       "      <td>366.0</td>\n",
       "      <td>62030.0</td>\n",
       "      <td>1952.0</td>\n",
       "      <td>6037</td>\n",
       "    </tr>\n",
       "    <tr>\n",
       "      <th>35686</th>\n",
       "      <td>12074776</td>\n",
       "      <td>0.0</td>\n",
       "      <td>0.0</td>\n",
       "      <td>360.0</td>\n",
       "      <td>11089.0</td>\n",
       "      <td>1925.0</td>\n",
       "      <td>6037</td>\n",
       "    </tr>\n",
       "    <tr>\n",
       "      <th>36529</th>\n",
       "      <td>13890348</td>\n",
       "      <td>0.0</td>\n",
       "      <td>0.0</td>\n",
       "      <td>2016.0</td>\n",
       "      <td>104502.0</td>\n",
       "      <td>1942.0</td>\n",
       "      <td>6059</td>\n",
       "    </tr>\n",
       "    <tr>\n",
       "      <th>40275</th>\n",
       "      <td>11687003</td>\n",
       "      <td>0.0</td>\n",
       "      <td>0.0</td>\n",
       "      <td>1728.0</td>\n",
       "      <td>3640824.0</td>\n",
       "      <td>1957.0</td>\n",
       "      <td>6037</td>\n",
       "    </tr>\n",
       "    <tr>\n",
       "      <th>41951</th>\n",
       "      <td>11341049</td>\n",
       "      <td>0.0</td>\n",
       "      <td>0.0</td>\n",
       "      <td>1366.0</td>\n",
       "      <td>142806.0</td>\n",
       "      <td>1950.0</td>\n",
       "      <td>6037</td>\n",
       "    </tr>\n",
       "    <tr>\n",
       "      <th>44731</th>\n",
       "      <td>12887546</td>\n",
       "      <td>0.0</td>\n",
       "      <td>0.0</td>\n",
       "      <td>816.0</td>\n",
       "      <td>152289.0</td>\n",
       "      <td>1926.0</td>\n",
       "      <td>6037</td>\n",
       "    </tr>\n",
       "    <tr>\n",
       "      <th>45654</th>\n",
       "      <td>11384712</td>\n",
       "      <td>0.0</td>\n",
       "      <td>0.0</td>\n",
       "      <td>1200.0</td>\n",
       "      <td>29855.0</td>\n",
       "      <td>1988.0</td>\n",
       "      <td>6037</td>\n",
       "    </tr>\n",
       "    <tr>\n",
       "      <th>49855</th>\n",
       "      <td>13919043</td>\n",
       "      <td>0.0</td>\n",
       "      <td>0.0</td>\n",
       "      <td>1719.0</td>\n",
       "      <td>125618.0</td>\n",
       "      <td>1949.0</td>\n",
       "      <td>6059</td>\n",
       "    </tr>\n",
       "    <tr>\n",
       "      <th>51299</th>\n",
       "      <td>12197543</td>\n",
       "      <td>0.0</td>\n",
       "      <td>0.0</td>\n",
       "      <td>984.0</td>\n",
       "      <td>183027.0</td>\n",
       "      <td>1927.0</td>\n",
       "      <td>6037</td>\n",
       "    </tr>\n",
       "    <tr>\n",
       "      <th>52163</th>\n",
       "      <td>12399434</td>\n",
       "      <td>0.0</td>\n",
       "      <td>0.0</td>\n",
       "      <td>2307.0</td>\n",
       "      <td>499000.0</td>\n",
       "      <td>1948.0</td>\n",
       "      <td>6037</td>\n",
       "    </tr>\n",
       "  </tbody>\n",
       "</table>\n",
       "</div>"
      ],
      "text/plain": [
       "      parcel_id  number_bedroom  number_bathroom    sqft  tax_value  \\\n",
       "2694   12227894             0.0              0.0  1208.0   185161.0   \n",
       "2899   12146026             0.0              0.0   280.0   963472.0   \n",
       "6132   12664381             0.0              0.0   128.0    49859.0   \n",
       "10294  14121842             0.0              0.0  1454.0   151824.0   \n",
       "15658  11953654             0.0              0.0   812.0    22102.0   \n",
       "16561  13841412             0.0              0.0  1567.0   226597.0   \n",
       "17766  11712886             0.0              0.0  3087.0   631299.0   \n",
       "20987  12038635             0.0              0.0   554.0   440000.0   \n",
       "21456  11266326             0.0              0.0   400.0    49627.0   \n",
       "22910  14507431             0.0              0.0  4184.0  1145602.0   \n",
       "24827  12153898             0.0              0.0   682.0    29361.0   \n",
       "26051  12554886             0.0              0.0  1064.0   226328.0   \n",
       "27346  11676853             0.0              0.0   660.0   746757.0   \n",
       "27719  12444585             0.0              0.0   738.0    84701.0   \n",
       "30595  11679076             0.0              0.0  1820.0  1034512.0   \n",
       "34721  11283520             0.0              0.0   366.0    62030.0   \n",
       "35686  12074776             0.0              0.0   360.0    11089.0   \n",
       "36529  13890348             0.0              0.0  2016.0   104502.0   \n",
       "40275  11687003             0.0              0.0  1728.0  3640824.0   \n",
       "41951  11341049             0.0              0.0  1366.0   142806.0   \n",
       "44731  12887546             0.0              0.0   816.0   152289.0   \n",
       "45654  11384712             0.0              0.0  1200.0    29855.0   \n",
       "49855  13919043             0.0              0.0  1719.0   125618.0   \n",
       "51299  12197543             0.0              0.0   984.0   183027.0   \n",
       "52163  12399434             0.0              0.0  2307.0   499000.0   \n",
       "\n",
       "       yearbuilt  geographic_code  \n",
       "2694      1990.0             6037  \n",
       "2899      1953.0             6037  \n",
       "6132      1949.0             6037  \n",
       "10294     1912.0             6059  \n",
       "15658     1924.0             6037  \n",
       "16561     1914.0             6059  \n",
       "17766     1947.0             6037  \n",
       "20987     1927.0             6037  \n",
       "21456     1950.0             6037  \n",
       "22910     1964.0             6059  \n",
       "24827     1972.0             6037  \n",
       "26051     1911.0             6037  \n",
       "27346     1928.0             6037  \n",
       "27719     1942.0             6037  \n",
       "30595     1939.0             6037  \n",
       "34721     1952.0             6037  \n",
       "35686     1925.0             6037  \n",
       "36529     1942.0             6059  \n",
       "40275     1957.0             6037  \n",
       "41951     1950.0             6037  \n",
       "44731     1926.0             6037  \n",
       "45654     1988.0             6037  \n",
       "49855     1949.0             6059  \n",
       "51299     1927.0             6037  \n",
       "52163     1948.0             6037  "
      ]
     },
     "execution_count": 10,
     "metadata": {},
     "output_type": "execute_result"
    }
   ],
   "source": [
    "#Total of 25 properties with zero bedroom and bathroom\n",
    "#We will keep these for now and check later if want to drop it\n",
    "df[(df.number_bedroom == 0) & (df.number_bathroom == 0)]"
   ]
  },
  {
   "cell_type": "code",
   "execution_count": 11,
   "id": "3cf4aaec-bd32-47fd-8600-1709ab5f0d75",
   "metadata": {},
   "outputs": [
    {
     "name": "stdout",
     "output_type": "stream",
     "text": [
      "X_train -> (29232, 6)               y_train->(29232,)\n",
      "X_validate -> (12528, 6)         y_validate->(12528,) \n",
      "X_test -> (10440, 6)                  y_test>(10440,)\n"
     ]
    },
    {
     "data": {
      "text/plain": [
       "((29232, 7), (12528, 7), (10440, 7))"
      ]
     },
     "execution_count": 11,
     "metadata": {},
     "output_type": "execute_result"
    }
   ],
   "source": [
    "#let's split our data using my train_validate_test function, and check our train, validate, and test shapes. Our target is tax_value.\n",
    "target = 'tax_value'\n",
    "train, validate, test, X_train, y_train, X_validate, y_validate, X_test, y_test = prepare.train_validate_test(df, target)\n",
    "train.shape, validate.shape, test.shape"
   ]
  },
  {
   "cell_type": "code",
   "execution_count": 12,
   "id": "a5705607-115a-47a5-a011-a617a92678f0",
   "metadata": {},
   "outputs": [],
   "source": [
    "#let's scale our data using the min_max_scale function. Not scaling the target. \n",
    "X_train_scaled, X_validate_scaled, X_test_scaled = prepare.scaled_df(X_train, X_validate, X_test, MinMaxScaler())"
   ]
  },
  {
   "cell_type": "markdown",
   "id": "8cd3a983-3a89-4b3c-8cae-afa07d7dc331",
   "metadata": {},
   "source": [
    "#### Explore"
   ]
  },
  {
   "cell_type": "markdown",
   "id": "2123406c-72c1-4c94-ad3a-a4cbb3ef436c",
   "metadata": {},
   "source": [
    "Before Exploration this is what I think:\n",
    "\n",
    "The variables that can influence the value of home are square feet, and number of bedrooms and at last number of bathrooms.\n",
    "square feet, and number of bedrooms can have an influence no matter where the property located.\n",
    "\n",
    "other factors can influence the value of a home such as zip code, year built, school district."
   ]
  },
  {
   "cell_type": "code",
   "execution_count": 13,
   "id": "a7716cb2-4fb1-4c0f-83cd-74bfc4b697aa",
   "metadata": {},
   "outputs": [
    {
     "data": {
      "image/png": "[encoded data removed]",
      "text/plain": [
       "<Figure size 936x1800 with 5 Axes>"
      ]
     },
     "metadata": {
      "needs_background": "light"
     },
     "output_type": "display_data"
    }
   ],
   "source": [
    "#checking distributions of our selected features/univariate exploration\n",
    "plt.figure(figsize=(13,25))\n",
    "plt.subplot(5,1,1, xlabel = 'Property Square Footage', title='Distribution of Sq Ft')\n",
    "plt.hist(data=train, x='sqft', bins = 30,ec='black')\n",
    "\n",
    "plt.subplot(5,1,2, xlabel = 'No. of Bathrooms on Property',title='Distribution of No. of Bathrooms')\n",
    "plt.hist(data=train, x='baths', ec='black')\n",
    "\n",
    "plt.subplot(5,1,3, xlabel = 'No. of Bedrooms on Property', title='Distribution of No. of Bedrooms')\n",
    "plt.hist(data=train, x='beds',ec='black')\n",
    "\n",
    "plt.subplot(5,1,4, xlabel = 'FIPS Code',title='Distribution of FIPS')\n",
    "plt.hist(data=train, x='fips',ec='black')\n",
    "\n",
    "plt.subplot(5,1,5, xlabel = 'Age of Property',title='Distribution of House Age')\n",
    "plt.hist(data=train, x='age',ec='black')\n",
    "\n",
    "plt.subplots_adjust(hspace=1)\n",
    "plt.show()"
   ]
  },
  {
   "cell_type": "code",
   "execution_count": 14,
   "id": "43e12a33-52dd-4f46-b2fe-d5b7fc3cc657",
   "metadata": {},
   "outputs": [],
   "source": [
    "# I creating a new df so it has target and scaled features\n",
    "train_scaled = pd.concat([X_train_scaled, pd.DataFrame({'tax_value': y_train}) ], axis= 1 )"
   ]
  },
  {
   "cell_type": "code",
   "execution_count": 15,
   "id": "0a40015c-ecfc-4262-84a5-cc660f870868",
   "metadata": {},
   "outputs": [
    {
     "data": {
      "text/html": [
       "<div>\n",
       "<style scoped>\n",
       "    .dataframe tbody tr th:only-of-type {\n",
       "        vertical-align: middle;\n",
       "    }\n",
       "\n",
       "    .dataframe tbody tr th {\n",
       "        vertical-align: top;\n",
       "    }\n",
       "\n",
       "    .dataframe thead th {\n",
       "        text-align: right;\n",
       "    }\n",
       "</style>\n",
       "<table border=\"1\" class=\"dataframe\">\n",
       "  <thead>\n",
       "    <tr style=\"text-align: right;\">\n",
       "      <th></th>\n",
       "      <th>number_bedroom</th>\n",
       "      <th>number_bathroom</th>\n",
       "      <th>sqft</th>\n",
       "      <th>yearbuilt</th>\n",
       "      <th>geographic_code</th>\n",
       "      <th>tax_value</th>\n",
       "    </tr>\n",
       "  </thead>\n",
       "  <tbody>\n",
       "    <tr>\n",
       "      <th>14811</th>\n",
       "      <td>0.166667</td>\n",
       "      <td>0.090909</td>\n",
       "      <td>0.037338</td>\n",
       "      <td>0.398438</td>\n",
       "      <td>0.0</td>\n",
       "      <td>231968.0</td>\n",
       "    </tr>\n",
       "    <tr>\n",
       "      <th>3800</th>\n",
       "      <td>0.250000</td>\n",
       "      <td>0.090909</td>\n",
       "      <td>0.041374</td>\n",
       "      <td>0.492188</td>\n",
       "      <td>0.0</td>\n",
       "      <td>318310.0</td>\n",
       "    </tr>\n",
       "    <tr>\n",
       "      <th>39649</th>\n",
       "      <td>0.416667</td>\n",
       "      <td>0.454545</td>\n",
       "      <td>0.166277</td>\n",
       "      <td>0.945312</td>\n",
       "      <td>0.0</td>\n",
       "      <td>2944385.0</td>\n",
       "    </tr>\n",
       "    <tr>\n",
       "      <th>30232</th>\n",
       "      <td>0.333333</td>\n",
       "      <td>0.454545</td>\n",
       "      <td>0.190909</td>\n",
       "      <td>0.921875</td>\n",
       "      <td>0.0</td>\n",
       "      <td>1809700.0</td>\n",
       "    </tr>\n",
       "    <tr>\n",
       "      <th>2287</th>\n",
       "      <td>0.250000</td>\n",
       "      <td>0.181818</td>\n",
       "      <td>0.055227</td>\n",
       "      <td>0.468750</td>\n",
       "      <td>0.0</td>\n",
       "      <td>283239.0</td>\n",
       "    </tr>\n",
       "  </tbody>\n",
       "</table>\n",
       "</div>"
      ],
      "text/plain": [
       "       number_bedroom  number_bathroom      sqft  yearbuilt  geographic_code  \\\n",
       "14811        0.166667         0.090909  0.037338   0.398438              0.0   \n",
       "3800         0.250000         0.090909  0.041374   0.492188              0.0   \n",
       "39649        0.416667         0.454545  0.166277   0.945312              0.0   \n",
       "30232        0.333333         0.454545  0.190909   0.921875              0.0   \n",
       "2287         0.250000         0.181818  0.055227   0.468750              0.0   \n",
       "\n",
       "       tax_value  \n",
       "14811   231968.0  \n",
       "3800    318310.0  \n",
       "39649  2944385.0  \n",
       "30232  1809700.0  \n",
       "2287    283239.0  "
      ]
     },
     "execution_count": 15,
     "metadata": {},
     "output_type": "execute_result"
    }
   ],
   "source": [
    "train_scaled.head()"
   ]
  },
  {
   "cell_type": "code",
   "execution_count": 16,
   "id": "321a90c5-2643-49d5-83ba-3a177d368904",
   "metadata": {},
   "outputs": [
    {
     "data": {
      "text/plain": [
       "<AxesSubplot:title={'center':'Feautures Correlating with Value'}>"
      ]
     },
     "execution_count": 16,
     "metadata": {},
     "output_type": "execute_result"
    },
    {
     "data": {
      "text/plain": [
       "<Figure size 720x720 with 0 Axes>"
      ]
     },
     "metadata": {},
     "output_type": "display_data"
    },
    {
     "data": {
      "image/png": "[encoded data removed]",
      "text/plain": [
       "<Figure size 576x864 with 2 Axes>"
      ]
     },
     "metadata": {
      "needs_background": "light"
     },
     "output_type": "display_data"
    }
   ],
   "source": [
    "#let see the correlation\n",
    "plt.figure(figsize=(10,10))\n",
    "explore.get_zillow_heatmap(train_scaled)"
   ]
  },
  {
   "cell_type": "code",
   "execution_count": 17,
   "id": "5522808e-1f74-4f1e-b359-bb88c7ba2ab0",
   "metadata": {},
   "outputs": [
    {
     "data": {
      "text/plain": [
       "<Figure size 1296x1152 with 0 Axes>"
      ]
     },
     "metadata": {},
     "output_type": "display_data"
    },
    {
     "data": {
      "image/png": "[encoded data removed]",
      "text/plain": [
       "<Figure size 1080x1080 with 27 Axes>"
      ]
     },
     "metadata": {
      "needs_background": "light"
     },
     "output_type": "display_data"
    }
   ],
   "source": [
    "#as all my columns are continuous I use pairplot.\n",
    "plt.figure(figsize=(18,16))\n",
    "sns.pairplot(train_scaled, kind=\"reg\", plot_kws={'line_kws':{'color':'red'}}, corner=True)\n",
    "plt.show()"
   ]
  },
  {
   "cell_type": "markdown",
   "id": "75e779c1-f9ce-4d6f-adba-a58035a64800",
   "metadata": {},
   "source": [
    "Are bathrooms and bedrooms linearly correlated?\n",
    "\n",
    "- 𝐻𝑜 : There is not a linear correlation between number of bathrooms and number of bedrooms for a property.\n",
    "- 𝐻𝑎 : There is a linear correlation between number of bathrooms and number of bedrooms for a property."
   ]
  },
  {
   "cell_type": "code",
   "execution_count": 18,
   "id": "b067f220-2bbd-43c0-9f9a-795e715afe90",
   "metadata": {},
   "outputs": [],
   "source": [
    "# Set Significance Level\n",
    "α = 0.05"
   ]
  },
  {
   "cell_type": "code",
   "execution_count": 19,
   "id": "bc5cba9d-d1f5-46e5-8dcc-7e49322fd975",
   "metadata": {},
   "outputs": [
    {
     "data": {
      "text/plain": [
       "(0.6492744489342969, 0.0)"
      ]
     },
     "execution_count": 19,
     "metadata": {},
     "output_type": "execute_result"
    }
   ],
   "source": [
    "r, p = stats.pearsonr(train_scaled.number_bedroom, train_scaled.number_bathroom)\n",
    "r, p"
   ]
  },
  {
   "cell_type": "code",
   "execution_count": 20,
   "id": "ba92fe95-7d3d-4517-8d1e-e470d43e52f8",
   "metadata": {},
   "outputs": [
    {
     "name": "stdout",
     "output_type": "stream",
     "text": [
      "We reject the null hypothesis\n"
     ]
    }
   ],
   "source": [
    "if (p < α):\n",
    "    print(\"We reject the null hypothesis\")\n",
    "else:\n",
    "    print(\"We fail to reject the null hypothesis\")"
   ]
  },
  {
   "cell_type": "code",
   "execution_count": 21,
   "id": "757ef2ef-3853-4882-bdd2-02b51619d68c",
   "metadata": {},
   "outputs": [
    {
     "data": {
      "text/plain": [
       "Text(-3, 8, 'Pearson r:0.6493\\n p-stat: 0.00')"
      ]
     },
     "execution_count": 21,
     "metadata": {},
     "output_type": "execute_result"
    },
    {
     "data": {
      "image/png": "[encoded data removed]",
      "text/plain": [
       "<Figure size 360x360 with 1 Axes>"
      ]
     },
     "metadata": {
      "needs_background": "light"
     },
     "output_type": "display_data"
    }
   ],
   "source": [
    "sns.lmplot(x = 'number_bedroom', y= 'number_bathroom', data = train_scaled, line_kws={'color': 'red'})\n",
    "plt.xlabel('Bathrooms')\n",
    "plt.ylabel('Bedrooms')\n",
    "plt.title('Bathrooms vs Bedrooms')\n",
    "plt.annotate(f'Pearson r:{r:.4f}\\n p-stat: {p:.2f}', xy =(-3, 8))"
   ]
  },
  {
   "cell_type": "code",
   "execution_count": 22,
   "id": "e656571a-1cae-46d0-a828-1416a6e1878f",
   "metadata": {},
   "outputs": [
    {
     "data": {
      "image/png": "[encoded data removed]",
      "text/plain": [
       "<Figure size 720x720 with 1 Axes>"
      ]
     },
     "metadata": {
      "needs_background": "light"
     },
     "output_type": "display_data"
    }
   ],
   "source": [
    "#plot our target\n",
    "sns.displot(y_train,  kind=\"kde\", height =10 , color = 'red')\n",
    "plt.xlabel(\"Value in USD (10^7)\")\n",
    "plt.ylabel(\"Number of properties\")\n",
    "plt.show()"
   ]
  },
  {
   "cell_type": "markdown",
   "id": "14d64384-2456-488c-a466-124ebeaa7df7",
   "metadata": {},
   "source": [
    "Baseline\n",
    "\n",
    "I wil check mean and median to calculate my baseline and I will select the one that has better rmse"
   ]
  },
  {
   "cell_type": "code",
   "execution_count": 32,
   "id": "06b82d38-2a47-41a2-b779-d5fa06193c22",
   "metadata": {},
   "outputs": [
    {
     "name": "stdout",
     "output_type": "stream",
     "text": [
      "Optimum number of features: 5\n",
      "Score with 5 features: 0.356229\n"
     ]
    }
   ],
   "source": [
    "#using RFE to test for features to use. I set a range from 1-7 to see if it would use some or all of the features I pulled.\n",
    "#It ends up telling us we should use four of the features to have the best model score.\n",
    "number_of_features_list=np.arange(1,7)\n",
    "high_score=0\n",
    "\n",
    "#Variable to store the optimum features\n",
    "number_of_features=0           \n",
    "score_list =[]\n",
    "\n",
    "for n in range(len(number_of_features_list)):\n",
    "    model = LinearRegression()\n",
    "    rfe = RFE(model,number_of_features_list[n])\n",
    "    X_train_rfe = rfe.fit_transform(X_train_scaled,y_train)\n",
    "    X_test_rfe = rfe.transform(X_test_scaled)\n",
    "    model.fit(X_train_rfe,y_train)\n",
    "    score = model.score(X_test_rfe,y_test)\n",
    "    score_list.append(score)\n",
    "    if(score>high_score):\n",
    "        high_score = score\n",
    "        number_of_features = number_of_features_list[n]\n",
    "\n",
    "print(\"Optimum number of features: %d\" %number_of_features)\n",
    "print(\"Score with %d features: %f\" % (number_of_features, high_score))"
   ]
  },
  {
   "cell_type": "code",
   "execution_count": 29,
   "id": "1c8c5b62-b203-4916-b1ed-9df7b523beb3",
   "metadata": {},
   "outputs": [
    {
     "name": "stdout",
     "output_type": "stream",
     "text": [
      "Index(['number_bedroom', 'number_bathroom', 'sqft', 'yearbuilt'], dtype='object')\n"
     ]
    }
   ],
   "source": [
    "#let's find out which four it wants us to use\n",
    "#Sqft, baths, beds, and age.\n",
    "cols = list(X_train_scaled.columns)\n",
    "model = LinearRegression()\n",
    "\n",
    "#Initializing RFE model\n",
    "rfe = RFE(model, 4)\n",
    "\n",
    "#Transforming data using RFE\n",
    "X_rfe = rfe.fit_transform(X_train_scaled,y_train)  \n",
    "\n",
    "#Fitting the data to model\n",
    "model.fit(X_rfe,y_train)\n",
    "temp = pd.Series(rfe.support_,index = cols)\n",
    "selected_features_rfe = temp[temp==True].index\n",
    "\n",
    "print(selected_features_rfe)"
   ]
  },
  {
   "cell_type": "code",
   "execution_count": 33,
   "id": "a2d7a29c-986b-40c2-a7b9-0b6134fa11d3",
   "metadata": {},
   "outputs": [],
   "source": [
    "#We should really not use tax_value in our model.\n",
    "#Be sure and remove the fields that leak information about taxvaluedollarcnt. \n",
    "#These are fields we would not know until we knew the assessed value, so using them would be \"cheating\". \n",
    "#These fields are landtaxvaluedollarcnt, structuretaxvaluedollarcnt, and taxamount.\n",
    "selected_features = ['sqft', 'number_bedroom', 'number_bathroom','yearbuilt']"
   ]
  },
  {
   "cell_type": "code",
   "execution_count": 35,
   "id": "4f584fed-d501-4934-9d0a-d5e514c0eb07",
   "metadata": {},
   "outputs": [
    {
     "name": "stdout",
     "output_type": "stream",
     "text": [
      "             BASELINE\n",
      "----------------------------------\n",
      "RMSE using Mean\n",
      "Train/In-Sample:  725542.6 \n",
      "Validate/Out-of-Sample:  698603.15\n",
      "----------------------------------\n",
      "RMSE using Median\n",
      "Train/In-Sample:  742313.77 \n",
      "Validate/Out-of-Sample:  716038.36\n",
      "----------------------------------\n",
      "The r^2 score for baseline is -4.578674417388129e-08\n"
     ]
    }
   ],
   "source": [
    "#turning my y_train and y_validate to dataframes so we can append new columns\n",
    "y_train = pd.DataFrame(y_train)\n",
    "y_validate = pd.DataFrame(y_validate)\n",
    "\n",
    "#tax_value mean\n",
    "tax_value_pred_mean = y_train['tax_value'].mean()\n",
    "y_train['tax_value_pred_mean'] = tax_value_pred_mean\n",
    "y_validate['tax_value_pred_mean'] = tax_value_pred_mean\n",
    "\n",
    "#tax_value_median\n",
    "tax_value_pred_median = y_train['tax_value'].median()\n",
    "y_train['tax_value_pred_median'] = tax_value_pred_median\n",
    "y_validate['tax_value_pred_median'] = tax_value_pred_median\n",
    "\n",
    "#RMSE of tax_value_pred_mean\n",
    "rmse_train = mean_squared_error(y_train.tax_value, y_train.tax_value_pred_mean)**(1/2)\n",
    "rmse_validate = mean_squared_error(y_validate.tax_value, y_validate.tax_value_pred_mean)**(1/2)\n",
    "\n",
    "print('             BASELINE')\n",
    "print('----------------------------------')\n",
    "print(\"RMSE using Mean\\nTrain/In-Sample: \", round(rmse_train, 2), \n",
    "      \"\\nValidate/Out-of-Sample: \", round(rmse_validate, 2))\n",
    "print('----------------------------------')\n",
    "\n",
    "#RMSE of tax_value_pred_median\n",
    "rmse_train = mean_squared_error(y_train.tax_value, y_train.tax_value_pred_median)**(1/2)\n",
    "rmse_validate = mean_squared_error(y_validate.tax_value, y_validate.tax_value_pred_median)**(1/2)\n",
    "\n",
    "print(\"RMSE using Median\\nTrain/In-Sample: \", round(rmse_train, 2), \n",
    "      \"\\nValidate/Out-of-Sample: \", round(rmse_validate, 2))\n",
    "print('----------------------------------')\n",
    "r2_baseline = r2_score(y_validate.tax_value, y_validate.tax_value_pred_mean)\n",
    "print(f'The r^2 score for baseline is {r2_baseline}')"
   ]
  },
  {
   "cell_type": "code",
   "execution_count": null,
   "id": "478bf3f1-487b-4eaa-9785-75b6d4940c37",
   "metadata": {},
   "outputs": [],
   "source": [
    "#Our first model: LinearRegression\n",
    "#create model object\n",
    "lm = LinearRegression(normalize=True)\n",
    "\n",
    "#fit the model to our training data, specify column since it is a dataframe\n",
    "lm.fit(X_train_scaled[selected_features],y_train.tax_value)\n",
    "\n",
    "#predict train\n",
    "y_train['tax_value_pred_lm'] = lm.predict(X_train_scaled[selected_features])\n",
    "\n",
    "#evaluate the RMSE for train\n",
    "rmse_train = mean_squared_error(y_train.tax_value, y_train.tax_value_pred_lm)**(1/2)\n",
    "\n",
    "#predict validate\n",
    "y_validate['tax_value_pred_lm'] = lm.predict(X_validate_scaled[selected_features])\n",
    "\n",
    "#evaluate the RMSE for validate\n",
    "rmse_validate = mean_squared_error(y_validate.tax_value, y_validate.tax_value_pred_lm)**(1/2)\n",
    "\n",
    "print(\"RMSE for OLS using LinearRegression:\\nTraining/In-Sample: \",rmse_train, \n",
    "      \"\\nValidation/Out-of-Sample: \", rmse_validate)\n",
    "r2_score_lm = r2_score(y_validate.tax_value, y_validate.tax_value_pred_lm)\n",
    "print(f'The r^2 value for linear regression is {round(r2_score_lm,3)}')"
   ]
  },
  {
   "cell_type": "code",
   "execution_count": null,
   "id": "58543dd0-6d05-4b20-8982-93851e8febb8",
   "metadata": {},
   "outputs": [],
   "source": [
    "#LassoLars \n",
    "#create model object\n",
    "lars = LassoLars(alpha=1.0)\n",
    "\n",
    "#fit the model to our training data, specify column since it is a dataframe\n",
    "lars.fit(X_train_scaled[selected_features],y_train.tax_value)\n",
    "\n",
    "#predict train\n",
    "y_train['tax_value_pred_lars'] = lars.predict(X_train_scaled[selected_features])\n",
    "\n",
    "#evaluate the RMSE for train\n",
    "rmse_train = mean_squared_error(y_train.tax_value, y_train.tax_value_pred_lars)**(1/2)\n",
    "\n",
    "#predict validate\n",
    "y_validate['tax_value_pred_lars'] = lars.predict(X_validate_scaled[selected_features])\n",
    "\n",
    "#evaluate the RMSE for validate\n",
    "rmse_validate = mean_squared_error(y_validate.tax_value, y_validate.tax_value_pred_lars)**(1/2)\n",
    "\n",
    "print(\"RMSE for OLS using Lasso+Lars\\nTraining/In-Sample: \",rmse_train, \n",
    "      \"\\nValidation/Out-of-Sample: \", rmse_validate)\n",
    "r2_score_lars = r2_score(y_validate.tax_value, y_validate.tax_value_pred_lars)\n",
    "print(f'The r^2 value for LassoLars regression is {round(r2_score_lars,3)}')"
   ]
  },
  {
   "cell_type": "code",
   "execution_count": null,
   "id": "3b5717b2-9202-4d33-8a41-3377128dc9dd",
   "metadata": {},
   "outputs": [],
   "source": [
    "#TweedieRegressor, I found using 0 power and 0 for alpha yielded the best results...\n",
    "#create model object\n",
    "glm = TweedieRegressor(power =0, alpha=0.00)\n",
    "\n",
    "#fit the model to our training data, specify column since it is a dataframe\n",
    "glm.fit(X_train_scaled[selected_features],y_train.tax_value)\n",
    "\n",
    "#predict train\n",
    "y_train['tax_value_pred_glm'] = glm.predict(X_train_scaled[selected_features])\n",
    "\n",
    "#evaluate the RMSE for train\n",
    "rmse_train = mean_squared_error(y_train.tax_value, y_train.tax_value_pred_glm)**(1/2)\n",
    "\n",
    "#predict validate\n",
    "y_validate['tax_value_pred_glm'] = glm.predict(X_validate_scaled[selected_features])\n",
    "\n",
    "#evaluate the RMSE for validate\n",
    "rmse_validate = mean_squared_error(y_validate.tax_value, y_validate.tax_value_pred_glm)**(1/2)\n",
    "\n",
    "print(\"RMSE for OLS using TweedieRegressor\\nTraining/In-Sample: \",rmse_train, \n",
    "      \"\\nValidation/Out-of-Sample: \", rmse_validate)\n",
    "r2_score_glm = r2_score(y_validate.tax_value, y_validate.tax_value_pred_glm)\n",
    "print(f'The r^2 value for TweedieRegressor is {round(r2_score_glm,3)}')"
   ]
  },
  {
   "cell_type": "code",
   "execution_count": null,
   "id": "ed603c42-94c2-40db-9bbd-7b8003c6c466",
   "metadata": {},
   "outputs": [],
   "source": [
    "#making polynomial features to get a new set of features, I found that degree=3 yielded the best results.\n",
    "pf = PolynomialFeatures(degree=3)\n",
    "\n",
    "#fit and transform X_train_scaled\n",
    "X_train_degree3 = pf.fit_transform(X_train_scaled[selected_features])\n",
    "\n",
    "#transform X_validate_scaled, and X_test_scaled\n",
    "X_validate_degree3 = pf.transform(X_validate_scaled[selected_features])\n",
    "X_test_degree3 = pf.transform(X_test_scaled[selected_features])\n",
    "\n",
    "#okay let's do linear regression again with our new degree\n",
    "lm3 = LinearRegression(normalize=True)\n",
    "\n",
    "#fit the model using scaled X_train, once again specify y_train column\n",
    "lm3.fit(X_train_degree3, y_train.tax_value)\n",
    "\n",
    "#predict train\n",
    "y_train['tax_value_pred_lm3'] = lm3.predict(X_train_degree3)\n",
    "\n",
    "#evaluate rmse for train\n",
    "rmse_train = mean_squared_error(y_train.tax_value, y_train.tax_value_pred_lm3)**(1/2)\n",
    "\n",
    "#predict validate\n",
    "y_validate['tax_value_pred_lm3'] = lm3.predict(X_validate_degree3)\n",
    "\n",
    "#evaluate rmse for validate\n",
    "rmse_validate = mean_squared_error(y_validate.tax_value, y_validate.tax_value_pred_lm3)**(1/2)\n",
    "\n",
    "print(\"RMSE for Polynomial Model, degrees=3\\nTraining/In-Sample: \", rmse_train, \n",
    "      \"\\nValidation/Out-of-Sample: \", rmse_validate)\n",
    "r2_score_lm3 = round(r2_score(y_validate.tax_value, y_validate.tax_value_pred_lm3),2)\n",
    "print(f'The r^2 value for TweedieRegressor is {round(r2_score_lm3,3)}')"
   ]
  },
  {
   "cell_type": "code",
   "execution_count": null,
   "id": "d7be675f-42ef-4239-a60a-5e52a593e864",
   "metadata": {},
   "outputs": [],
   "source": [
    "plt.figure(figsize=(20,8))\n",
    "plt.axhline(label=\"No Error\", color=\"black\")\n",
    "plt.scatter(y_validate.tax_value, y_validate.tax_value_pred_lm-y_validate.tax_value, \n",
    "            alpha=1, color=\"red\", s=100, label=\"Model: LinearRegression\")\n",
    "plt.scatter(y_validate.tax_value, y_validate.tax_value_pred_lars-y_validate.tax_value, \n",
    "            alpha=.5, color=\"green\", s=100, label=\"Model: LassoLars Regression\")\n",
    "plt.scatter(y_validate.tax_value, y_validate.tax_value_pred_glm-y_validate.tax_value, \n",
    "            alpha=1, color=\"orange\", s=100, label=\"Model: TweedieRegressor\")\n",
    "plt.scatter(y_validate.tax_value, y_validate.tax_value_pred_lm3-y_validate.tax_value, \n",
    "            alpha=.5, color=\"dodgerblue\", s=100, edgecolors='black', label=\"Model 3rd degree Polynomial\")\n",
    "plt.legend()\n",
    "\n",
    "plt.xlabel(\"Actual Tax Value of Property\", fontdict={'fontsize':15})\n",
    "plt.ylabel(\"Predicted Tax Value of Property Minus Actual\", fontdict={'fontsize':15})\n",
    "plt.title(\"Residuals\", fontdict={'fontsize': 20})"
   ]
  },
  {
   "cell_type": "code",
   "execution_count": null,
   "id": "935ea5ec-bb2a-4ee1-8dff-b311fc4114da",
   "metadata": {},
   "outputs": [],
   "source": [
    "#looks like 3rd degree polynomial did the best, let's visualize that\n",
    "plt.figure(figsize=(20,8))\n",
    "\n",
    "sns.regplot(data=y_test, x=y_validate.tax_value, y=y_validate.tax_value_pred_lm3, \n",
    "            scatter_kws={'color':'blue'}, line_kws={'color':'red'})\n",
    "plt.xlabel(\"Actual Tax Value of Property\", fontdict={'fontsize':15})\n",
    "plt.ylabel(\"Predicted Tax Value of Property W/ Polynomial Regression Model\", fontdict={'fontsize':15})\n",
    "plt.title(\"Polynomial Regression Model\", fontdict={'fontsize': 20})\n",
    "\n",
    "plt.show()"
   ]
  },
  {
   "cell_type": "code",
   "execution_count": null,
   "id": "12c68908-3c0c-4201-aac2-4bc8a602080e",
   "metadata": {
    "tags": []
   },
   "outputs": [],
   "source": [
    "#turning it into a dataframe\n",
    "y_test = pd.DataFrame(y_test)\n",
    "\n",
    "# predicting on our test model\n",
    "y_test['tax_value_pred_lm3'] = lm3.predict(X_test_degree3)\n",
    "\n",
    "# evaluate: rmse\n",
    "rmse_test = mean_squared_error(y_test.tax_value, y_test.tax_value_pred_lm3)**(1/2)\n",
    "print('             ')\n",
    "print('             Our Test Model')\n",
    "print('----------------------------------')\n",
    "print('----------------------------------')\n",
    "print(\"RMSE for OLS Model using Polynomial (3 degrees)\\nOut-of-Sample Performance: \", rmse_test)\n",
    "r2_test_score_lm3 = r2_score(y_test.tax_value, y_test.tax_value_pred_lm3)\n",
    "print(\"RSME for baseline: \", rmse_validate)\n",
    "print(f'Polynomial Regression (3 degrees) has an R^2 value of {round(r2_test_score_lm3,3)}')"
   ]
  },
  {
   "cell_type": "markdown",
   "id": "24d43312-99c8-42ed-91d8-21fe036fdf6e",
   "metadata": {},
   "source": [
    "Our test model (Polynomial regression, 3 degrees) performs better than the baseline. It has a lower RMSE, lower variance between test/validate, and has a higher r^2 value, so it can better explain the variances between predicted and actual home values."
   ]
  }
 ],
 "metadata": {
  "kernelspec": {
   "display_name": "Python 3 (ipykernel)",
   "language": "python",
   "name": "python3"
  },
  "language_info": {
   "codemirror_mode": {
    "name": "ipython",
    "version": 3
   },
   "file_extension": ".py",
   "mimetype": "text/x-python",
   "name": "python",
   "nbconvert_exporter": "python",
   "pygments_lexer": "ipython3",
   "version": "3.9.7"
  }
 },
 "nbformat": 4,
 "nbformat_minor": 5
}
