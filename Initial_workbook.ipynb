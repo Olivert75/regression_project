{
 "cells": [
  {
   "cell_type": "code",
   "execution_count": 1,
   "id": "a7f90131-38f2-4333-8fa8-ebad364fbeb0",
   "metadata": {},
   "outputs": [],
   "source": [
    "#import stuff we will need\n",
    "import warnings\n",
    "warnings.filterwarnings(\"ignore\")\n",
    "import seaborn as sns\n",
    "import pandas as pd\n",
    "import matplotlib.pyplot as plt\n",
    "import numpy as np\n",
    "from scipy import stats\n",
    "\n",
    "from sklearn.feature_selection import SelectKBest, f_regression, RFE\n",
    "from sklearn.model_selection import train_test_split\n",
    "from sklearn.preprocessing import MinMaxScaler\n",
    "from sklearn.linear_model import LinearRegression, LassoLars, TweedieRegressor\n",
    "from sklearn.preprocessing import PolynomialFeatures\n",
    "from sklearn.metrics import mean_squared_error, r2_score\n",
    "\n",
    "#import functions from my .py files\n",
    "import acquire\n",
    "import prepare \n",
    "import explore \n",
    "import evaluate \n",
    "import model\n",
    "#Might needed or might be not \n",
    "import wrangle"
   ]
  },
  {
   "cell_type": "code",
   "execution_count": 2,
   "id": "f3098233-e298-4dea-8106-bb6c2ecf0db6",
   "metadata": {},
   "outputs": [],
   "source": [
    "#acquire our Zillow data from CodeUp server, and turn into .csv\n",
    "df = acquire.get_zillow_data()"
   ]
  },
  {
   "cell_type": "code",
   "execution_count": 3,
   "id": "653fa499-58e4-48b8-9b6f-13e6accb1272",
   "metadata": {},
   "outputs": [
    {
     "data": {
      "text/html": [
       "<div>\n",
       "<style scoped>\n",
       "    .dataframe tbody tr th:only-of-type {\n",
       "        vertical-align: middle;\n",
       "    }\n",
       "\n",
       "    .dataframe tbody tr th {\n",
       "        vertical-align: top;\n",
       "    }\n",
       "\n",
       "    .dataframe thead th {\n",
       "        text-align: right;\n",
       "    }\n",
       "</style>\n",
       "<table border=\"1\" class=\"dataframe\">\n",
       "  <thead>\n",
       "    <tr style=\"text-align: right;\">\n",
       "      <th></th>\n",
       "      <th>parcelid</th>\n",
       "      <th>bedroomcnt</th>\n",
       "      <th>bathroomcnt</th>\n",
       "      <th>calculatedfinishedsquarefeet</th>\n",
       "      <th>taxvaluedollarcnt</th>\n",
       "      <th>yearbuilt</th>\n",
       "      <th>fips</th>\n",
       "      <th>taxamount</th>\n",
       "    </tr>\n",
       "  </thead>\n",
       "  <tbody>\n",
       "    <tr>\n",
       "      <th>0</th>\n",
       "      <td>14372057</td>\n",
       "      <td>2.0</td>\n",
       "      <td>2.5</td>\n",
       "      <td>1348.0</td>\n",
       "      <td>343967.0</td>\n",
       "      <td>1979.0</td>\n",
       "      <td>6059.0</td>\n",
       "      <td>3628.14</td>\n",
       "    </tr>\n",
       "    <tr>\n",
       "      <th>1</th>\n",
       "      <td>13929199</td>\n",
       "      <td>3.0</td>\n",
       "      <td>2.0</td>\n",
       "      <td>1221.0</td>\n",
       "      <td>367034.0</td>\n",
       "      <td>1955.0</td>\n",
       "      <td>6059.0</td>\n",
       "      <td>4589.60</td>\n",
       "    </tr>\n",
       "    <tr>\n",
       "      <th>2</th>\n",
       "      <td>12430095</td>\n",
       "      <td>3.0</td>\n",
       "      <td>2.0</td>\n",
       "      <td>1462.0</td>\n",
       "      <td>79713.0</td>\n",
       "      <td>1950.0</td>\n",
       "      <td>6037.0</td>\n",
       "      <td>1269.65</td>\n",
       "    </tr>\n",
       "    <tr>\n",
       "      <th>3</th>\n",
       "      <td>13033318</td>\n",
       "      <td>2.0</td>\n",
       "      <td>1.0</td>\n",
       "      <td>768.0</td>\n",
       "      <td>270458.0</td>\n",
       "      <td>1926.0</td>\n",
       "      <td>6037.0</td>\n",
       "      <td>3373.09</td>\n",
       "    </tr>\n",
       "    <tr>\n",
       "      <th>4</th>\n",
       "      <td>12079615</td>\n",
       "      <td>4.0</td>\n",
       "      <td>4.0</td>\n",
       "      <td>3696.0</td>\n",
       "      <td>940251.0</td>\n",
       "      <td>1989.0</td>\n",
       "      <td>6037.0</td>\n",
       "      <td>10313.18</td>\n",
       "    </tr>\n",
       "  </tbody>\n",
       "</table>\n",
       "</div>"
      ],
      "text/plain": [
       "   parcelid  bedroomcnt  bathroomcnt  calculatedfinishedsquarefeet  \\\n",
       "0  14372057         2.0          2.5                        1348.0   \n",
       "1  13929199         3.0          2.0                        1221.0   \n",
       "2  12430095         3.0          2.0                        1462.0   \n",
       "3  13033318         2.0          1.0                         768.0   \n",
       "4  12079615         4.0          4.0                        3696.0   \n",
       "\n",
       "   taxvaluedollarcnt  yearbuilt    fips  taxamount  \n",
       "0           343967.0     1979.0  6059.0    3628.14  \n",
       "1           367034.0     1955.0  6059.0    4589.60  \n",
       "2            79713.0     1950.0  6037.0    1269.65  \n",
       "3           270458.0     1926.0  6037.0    3373.09  \n",
       "4           940251.0     1989.0  6037.0   10313.18  "
      ]
     },
     "execution_count": 3,
     "metadata": {},
     "output_type": "execute_result"
    }
   ],
   "source": [
    "df.head()"
   ]
  },
  {
   "cell_type": "code",
   "execution_count": 4,
   "id": "e090a378-ea58-4f0e-9200-da7ea8e1b373",
   "metadata": {},
   "outputs": [
    {
     "name": "stdout",
     "output_type": "stream",
     "text": [
      "<class 'pandas.core.frame.DataFrame'>\n",
      "Int64Index: 52441 entries, 0 to 52440\n",
      "Data columns (total 8 columns):\n",
      " #   Column                        Non-Null Count  Dtype  \n",
      "---  ------                        --------------  -----  \n",
      " 0   parcelid                      52441 non-null  int64  \n",
      " 1   bedroomcnt                    52441 non-null  float64\n",
      " 2   bathroomcnt                   52441 non-null  float64\n",
      " 3   calculatedfinishedsquarefeet  52359 non-null  float64\n",
      " 4   taxvaluedollarcnt             52440 non-null  float64\n",
      " 5   yearbuilt                     52325 non-null  float64\n",
      " 6   fips                          52441 non-null  float64\n",
      " 7   taxamount                     52437 non-null  float64\n",
      "dtypes: float64(7), int64(1)\n",
      "memory usage: 3.6 MB\n"
     ]
    }
   ],
   "source": [
    "df.info()"
   ]
  },
  {
   "cell_type": "code",
   "execution_count": 5,
   "id": "c1ab47dc-720a-4beb-8db7-cf09abdec6d5",
   "metadata": {},
   "outputs": [
    {
     "name": "stdout",
     "output_type": "stream",
     "text": [
      "Your selected dataframe has 8 columns.\n",
      "There are 4 columns that have missing values.\n",
      "  \n",
      "** There are 121 duplicate rows that represents 0.23% of total Values**\n"
     ]
    },
    {
     "data": {
      "text/html": [
       "<div>\n",
       "<style scoped>\n",
       "    .dataframe tbody tr th:only-of-type {\n",
       "        vertical-align: middle;\n",
       "    }\n",
       "\n",
       "    .dataframe tbody tr th {\n",
       "        vertical-align: top;\n",
       "    }\n",
       "\n",
       "    .dataframe thead th {\n",
       "        text-align: right;\n",
       "    }\n",
       "</style>\n",
       "<table border=\"1\" class=\"dataframe\">\n",
       "  <thead>\n",
       "    <tr style=\"text-align: right;\">\n",
       "      <th></th>\n",
       "      <th>Missing Values</th>\n",
       "      <th>% of Total Values</th>\n",
       "    </tr>\n",
       "  </thead>\n",
       "  <tbody>\n",
       "    <tr>\n",
       "      <th>yearbuilt</th>\n",
       "      <td>116</td>\n",
       "      <td>0.2</td>\n",
       "    </tr>\n",
       "    <tr>\n",
       "      <th>calculatedfinishedsquarefeet</th>\n",
       "      <td>82</td>\n",
       "      <td>0.2</td>\n",
       "    </tr>\n",
       "    <tr>\n",
       "      <th>taxamount</th>\n",
       "      <td>4</td>\n",
       "      <td>0.0</td>\n",
       "    </tr>\n",
       "    <tr>\n",
       "      <th>taxvaluedollarcnt</th>\n",
       "      <td>1</td>\n",
       "      <td>0.0</td>\n",
       "    </tr>\n",
       "  </tbody>\n",
       "</table>\n",
       "</div>"
      ],
      "text/plain": [
       "                              Missing Values  % of Total Values\n",
       "yearbuilt                                116                0.2\n",
       "calculatedfinishedsquarefeet              82                0.2\n",
       "taxamount                                  4                0.0\n",
       "taxvaluedollarcnt                          1                0.0"
      ]
     },
     "execution_count": 5,
     "metadata": {},
     "output_type": "execute_result"
    }
   ],
   "source": [
    "#Using wrangle to get null-values check function\n",
    "wrangle.miss_dup_values(df)"
   ]
  },
  {
   "cell_type": "code",
   "execution_count": 6,
   "id": "309f349c-46b2-48c5-8c0b-74a205ec24b2",
   "metadata": {},
   "outputs": [],
   "source": [
    "#Using clean function from prepare\n",
    "df = prepare.clean_zillow(df)"
   ]
  },
  {
   "cell_type": "code",
   "execution_count": 7,
   "id": "3d4f5394-9f4d-4c5f-9a51-656b08037bd3",
   "metadata": {},
   "outputs": [
    {
     "name": "stdout",
     "output_type": "stream",
     "text": [
      "Your selected dataframe has 8 columns.\n",
      "There are 0 columns that have missing values.\n",
      "  \n",
      "** There are 0 duplicate rows that represents 0.0% of total Values**\n"
     ]
    },
    {
     "data": {
      "text/html": [
       "<div>\n",
       "<style scoped>\n",
       "    .dataframe tbody tr th:only-of-type {\n",
       "        vertical-align: middle;\n",
       "    }\n",
       "\n",
       "    .dataframe tbody tr th {\n",
       "        vertical-align: top;\n",
       "    }\n",
       "\n",
       "    .dataframe thead th {\n",
       "        text-align: right;\n",
       "    }\n",
       "</style>\n",
       "<table border=\"1\" class=\"dataframe\">\n",
       "  <thead>\n",
       "    <tr style=\"text-align: right;\">\n",
       "      <th></th>\n",
       "      <th>Missing Values</th>\n",
       "      <th>% of Total Values</th>\n",
       "    </tr>\n",
       "  </thead>\n",
       "  <tbody>\n",
       "  </tbody>\n",
       "</table>\n",
       "</div>"
      ],
      "text/plain": [
       "Empty DataFrame\n",
       "Columns: [Missing Values, % of Total Values]\n",
       "Index: []"
      ]
     },
     "execution_count": 7,
     "metadata": {},
     "output_type": "execute_result"
    }
   ],
   "source": [
    "#Check again after cleanning\n",
    "wrangle.miss_dup_values(df)"
   ]
  },
  {
   "cell_type": "code",
   "execution_count": 8,
   "id": "8fce6bd6-4ed5-46c3-aeb7-61281154cd29",
   "metadata": {},
   "outputs": [
    {
     "name": "stdout",
     "output_type": "stream",
     "text": [
      "<class 'pandas.core.frame.DataFrame'>\n",
      "Int64Index: 52196 entries, 0 to 52440\n",
      "Data columns (total 8 columns):\n",
      " #   Column           Non-Null Count  Dtype  \n",
      "---  ------           --------------  -----  \n",
      " 0   parcel_id        52196 non-null  object \n",
      " 1   number_bedroom   52196 non-null  float64\n",
      " 2   number_bathroom  52196 non-null  float64\n",
      " 3   sqft             52196 non-null  float64\n",
      " 4   tax_value        52196 non-null  float64\n",
      " 5   yearbuilt        52196 non-null  float64\n",
      " 6   geographic_code  52196 non-null  int64  \n",
      " 7   tax_amount       52196 non-null  float64\n",
      "dtypes: float64(6), int64(1), object(1)\n",
      "memory usage: 3.6+ MB\n"
     ]
    }
   ],
   "source": [
    "df.info()"
   ]
  },
  {
   "cell_type": "code",
   "execution_count": 9,
   "id": "99ff3673-e30f-4e50-b786-b3818147b75e",
   "metadata": {},
   "outputs": [
    {
     "name": "stdout",
     "output_type": "stream",
     "text": [
      "************************** COUNT OF UNIQUE VALUES ************************** \n",
      "Columns\n",
      " \n",
      "parcel_id --> 52196 unique values\n",
      " \n",
      "number_bedroom --> 14 unique values\n",
      " \n",
      "number_bathroom --> 22 unique values\n",
      " \n",
      "sqft --> 4720 unique values\n",
      " \n",
      "tax_value --> 38846 unique values\n",
      " \n",
      "yearbuilt --> 133 unique values\n",
      " \n",
      "geographic_code --> 3 unique values\n",
      " \n",
      "tax_amount --> 50722 unique values\n",
      " \n",
      " **************************  UNIQUE VALUES **************************\n",
      " \n",
      "Uniques values of all the columns that have less than 30 unique values \n",
      " \n",
      "number_bedroom\n",
      "0.0        57\n",
      "1.0       604\n",
      "2.0      8310\n",
      "3.0     23290\n",
      "4.0     15196\n",
      "5.0      3964\n",
      "6.0       632\n",
      "7.0       106\n",
      "8.0        24\n",
      "9.0         8\n",
      "10.0        2\n",
      "11.0        1\n",
      "12.0        1\n",
      "14.0        1\n",
      "Name: number_bedroom, dtype: int64\n",
      "--------------------------- \n",
      " \n",
      "number_bathroom\n",
      "0.0        41\n",
      "1.0      9520\n",
      "1.5       838\n",
      "2.0     21834\n",
      "2.5      3929\n",
      "3.0     10641\n",
      "3.5       911\n",
      "4.0      2225\n",
      "4.5       681\n",
      "5.0       803\n",
      "5.5       224\n",
      "6.0       320\n",
      "6.5        47\n",
      "7.0        88\n",
      "7.5        16\n",
      "8.0        53\n",
      "8.5         2\n",
      "9.0        13\n",
      "10.0        5\n",
      "11.0        3\n",
      "13.0        1\n",
      "18.0        1\n",
      "Name: number_bathroom, dtype: int64\n",
      "--------------------------- \n",
      " \n",
      "geographic_code\n",
      "6037    33790\n",
      "6059    14058\n",
      "6111     4348\n",
      "Name: geographic_code, dtype: int64\n",
      "--------------------------- \n",
      " \n"
     ]
    }
   ],
   "source": [
    "prepare.unique_cntvalues(df, 30)"
   ]
  },
  {
   "cell_type": "code",
   "execution_count": 10,
   "id": "12b1e129-2d18-4b41-94b8-acea03c3ace1",
   "metadata": {},
   "outputs": [
    {
     "data": {
      "text/html": [
       "<div>\n",
       "<style scoped>\n",
       "    .dataframe tbody tr th:only-of-type {\n",
       "        vertical-align: middle;\n",
       "    }\n",
       "\n",
       "    .dataframe tbody tr th {\n",
       "        vertical-align: top;\n",
       "    }\n",
       "\n",
       "    .dataframe thead th {\n",
       "        text-align: right;\n",
       "    }\n",
       "</style>\n",
       "<table border=\"1\" class=\"dataframe\">\n",
       "  <thead>\n",
       "    <tr style=\"text-align: right;\">\n",
       "      <th></th>\n",
       "      <th>parcel_id</th>\n",
       "      <th>number_bedroom</th>\n",
       "      <th>number_bathroom</th>\n",
       "      <th>sqft</th>\n",
       "      <th>tax_value</th>\n",
       "      <th>yearbuilt</th>\n",
       "      <th>geographic_code</th>\n",
       "      <th>tax_amount</th>\n",
       "    </tr>\n",
       "  </thead>\n",
       "  <tbody>\n",
       "    <tr>\n",
       "      <th>3036</th>\n",
       "      <td>12146026</td>\n",
       "      <td>0.0</td>\n",
       "      <td>0.0</td>\n",
       "      <td>280.0</td>\n",
       "      <td>963472.0</td>\n",
       "      <td>1953.0</td>\n",
       "      <td>6037</td>\n",
       "      <td>11016.31</td>\n",
       "    </tr>\n",
       "    <tr>\n",
       "      <th>3241</th>\n",
       "      <td>12227894</td>\n",
       "      <td>0.0</td>\n",
       "      <td>0.0</td>\n",
       "      <td>1208.0</td>\n",
       "      <td>185161.0</td>\n",
       "      <td>1990.0</td>\n",
       "      <td>6037</td>\n",
       "      <td>2558.37</td>\n",
       "    </tr>\n",
       "    <tr>\n",
       "      <th>4884</th>\n",
       "      <td>12664381</td>\n",
       "      <td>0.0</td>\n",
       "      <td>0.0</td>\n",
       "      <td>128.0</td>\n",
       "      <td>49859.0</td>\n",
       "      <td>1949.0</td>\n",
       "      <td>6037</td>\n",
       "      <td>849.72</td>\n",
       "    </tr>\n",
       "    <tr>\n",
       "      <th>10887</th>\n",
       "      <td>14121842</td>\n",
       "      <td>0.0</td>\n",
       "      <td>0.0</td>\n",
       "      <td>1454.0</td>\n",
       "      <td>151824.0</td>\n",
       "      <td>1912.0</td>\n",
       "      <td>6059</td>\n",
       "      <td>2397.46</td>\n",
       "    </tr>\n",
       "    <tr>\n",
       "      <th>14782</th>\n",
       "      <td>13841412</td>\n",
       "      <td>0.0</td>\n",
       "      <td>0.0</td>\n",
       "      <td>1567.0</td>\n",
       "      <td>226597.0</td>\n",
       "      <td>1914.0</td>\n",
       "      <td>6059</td>\n",
       "      <td>3004.76</td>\n",
       "    </tr>\n",
       "    <tr>\n",
       "      <th>15685</th>\n",
       "      <td>11953654</td>\n",
       "      <td>0.0</td>\n",
       "      <td>0.0</td>\n",
       "      <td>812.0</td>\n",
       "      <td>22102.0</td>\n",
       "      <td>1924.0</td>\n",
       "      <td>6037</td>\n",
       "      <td>387.66</td>\n",
       "    </tr>\n",
       "    <tr>\n",
       "      <th>18657</th>\n",
       "      <td>11712886</td>\n",
       "      <td>0.0</td>\n",
       "      <td>0.0</td>\n",
       "      <td>3087.0</td>\n",
       "      <td>631299.0</td>\n",
       "      <td>1947.0</td>\n",
       "      <td>6037</td>\n",
       "      <td>7731.90</td>\n",
       "    </tr>\n",
       "    <tr>\n",
       "      <th>20047</th>\n",
       "      <td>11266326</td>\n",
       "      <td>0.0</td>\n",
       "      <td>0.0</td>\n",
       "      <td>400.0</td>\n",
       "      <td>49627.0</td>\n",
       "      <td>1950.0</td>\n",
       "      <td>6037</td>\n",
       "      <td>703.30</td>\n",
       "    </tr>\n",
       "    <tr>\n",
       "      <th>20516</th>\n",
       "      <td>12038635</td>\n",
       "      <td>0.0</td>\n",
       "      <td>0.0</td>\n",
       "      <td>554.0</td>\n",
       "      <td>440000.0</td>\n",
       "      <td>1927.0</td>\n",
       "      <td>6037</td>\n",
       "      <td>5333.15</td>\n",
       "    </tr>\n",
       "    <tr>\n",
       "      <th>23674</th>\n",
       "      <td>14507431</td>\n",
       "      <td>0.0</td>\n",
       "      <td>0.0</td>\n",
       "      <td>4184.0</td>\n",
       "      <td>1145602.0</td>\n",
       "      <td>1964.0</td>\n",
       "      <td>6059</td>\n",
       "      <td>11761.22</td>\n",
       "    </tr>\n",
       "    <tr>\n",
       "      <th>25615</th>\n",
       "      <td>12554886</td>\n",
       "      <td>0.0</td>\n",
       "      <td>0.0</td>\n",
       "      <td>1064.0</td>\n",
       "      <td>226328.0</td>\n",
       "      <td>1911.0</td>\n",
       "      <td>6037</td>\n",
       "      <td>2770.52</td>\n",
       "    </tr>\n",
       "    <tr>\n",
       "      <th>26839</th>\n",
       "      <td>12153898</td>\n",
       "      <td>0.0</td>\n",
       "      <td>0.0</td>\n",
       "      <td>682.0</td>\n",
       "      <td>29361.0</td>\n",
       "      <td>1972.0</td>\n",
       "      <td>6037</td>\n",
       "      <td>451.07</td>\n",
       "    </tr>\n",
       "    <tr>\n",
       "      <th>29028</th>\n",
       "      <td>12444585</td>\n",
       "      <td>0.0</td>\n",
       "      <td>0.0</td>\n",
       "      <td>738.0</td>\n",
       "      <td>84701.0</td>\n",
       "      <td>1942.0</td>\n",
       "      <td>6037</td>\n",
       "      <td>1337.61</td>\n",
       "    </tr>\n",
       "    <tr>\n",
       "      <th>29401</th>\n",
       "      <td>11676853</td>\n",
       "      <td>0.0</td>\n",
       "      <td>0.0</td>\n",
       "      <td>660.0</td>\n",
       "      <td>746757.0</td>\n",
       "      <td>1928.0</td>\n",
       "      <td>6037</td>\n",
       "      <td>8961.30</td>\n",
       "    </tr>\n",
       "    <tr>\n",
       "      <th>31233</th>\n",
       "      <td>11679076</td>\n",
       "      <td>0.0</td>\n",
       "      <td>0.0</td>\n",
       "      <td>1820.0</td>\n",
       "      <td>1034512.0</td>\n",
       "      <td>1939.0</td>\n",
       "      <td>6037</td>\n",
       "      <td>12614.16</td>\n",
       "    </tr>\n",
       "    <tr>\n",
       "      <th>32189</th>\n",
       "      <td>11283520</td>\n",
       "      <td>0.0</td>\n",
       "      <td>0.0</td>\n",
       "      <td>366.0</td>\n",
       "      <td>62030.0</td>\n",
       "      <td>1952.0</td>\n",
       "      <td>6037</td>\n",
       "      <td>840.00</td>\n",
       "    </tr>\n",
       "    <tr>\n",
       "      <th>35463</th>\n",
       "      <td>13890348</td>\n",
       "      <td>0.0</td>\n",
       "      <td>0.0</td>\n",
       "      <td>2016.0</td>\n",
       "      <td>104502.0</td>\n",
       "      <td>1942.0</td>\n",
       "      <td>6059</td>\n",
       "      <td>1574.84</td>\n",
       "    </tr>\n",
       "    <tr>\n",
       "      <th>36306</th>\n",
       "      <td>12074776</td>\n",
       "      <td>0.0</td>\n",
       "      <td>0.0</td>\n",
       "      <td>360.0</td>\n",
       "      <td>11089.0</td>\n",
       "      <td>1925.0</td>\n",
       "      <td>6037</td>\n",
       "      <td>150.58</td>\n",
       "    </tr>\n",
       "    <tr>\n",
       "      <th>40202</th>\n",
       "      <td>11341049</td>\n",
       "      <td>0.0</td>\n",
       "      <td>0.0</td>\n",
       "      <td>1366.0</td>\n",
       "      <td>142806.0</td>\n",
       "      <td>1950.0</td>\n",
       "      <td>6037</td>\n",
       "      <td>2592.30</td>\n",
       "    </tr>\n",
       "    <tr>\n",
       "      <th>41878</th>\n",
       "      <td>11687003</td>\n",
       "      <td>0.0</td>\n",
       "      <td>0.0</td>\n",
       "      <td>1728.0</td>\n",
       "      <td>3640824.0</td>\n",
       "      <td>1957.0</td>\n",
       "      <td>6037</td>\n",
       "      <td>42229.17</td>\n",
       "    </tr>\n",
       "    <tr>\n",
       "      <th>42503</th>\n",
       "      <td>12887546</td>\n",
       "      <td>0.0</td>\n",
       "      <td>0.0</td>\n",
       "      <td>816.0</td>\n",
       "      <td>152289.0</td>\n",
       "      <td>1926.0</td>\n",
       "      <td>6037</td>\n",
       "      <td>2049.01</td>\n",
       "    </tr>\n",
       "    <tr>\n",
       "      <th>46662</th>\n",
       "      <td>11384712</td>\n",
       "      <td>0.0</td>\n",
       "      <td>0.0</td>\n",
       "      <td>1200.0</td>\n",
       "      <td>29855.0</td>\n",
       "      <td>1988.0</td>\n",
       "      <td>6037</td>\n",
       "      <td>488.32</td>\n",
       "    </tr>\n",
       "    <tr>\n",
       "      <th>47542</th>\n",
       "      <td>13919043</td>\n",
       "      <td>0.0</td>\n",
       "      <td>0.0</td>\n",
       "      <td>1719.0</td>\n",
       "      <td>125618.0</td>\n",
       "      <td>1949.0</td>\n",
       "      <td>6059</td>\n",
       "      <td>1873.60</td>\n",
       "    </tr>\n",
       "    <tr>\n",
       "      <th>50246</th>\n",
       "      <td>12399434</td>\n",
       "      <td>0.0</td>\n",
       "      <td>0.0</td>\n",
       "      <td>2307.0</td>\n",
       "      <td>499000.0</td>\n",
       "      <td>1948.0</td>\n",
       "      <td>6037</td>\n",
       "      <td>6315.67</td>\n",
       "    </tr>\n",
       "    <tr>\n",
       "      <th>51110</th>\n",
       "      <td>12197543</td>\n",
       "      <td>0.0</td>\n",
       "      <td>0.0</td>\n",
       "      <td>984.0</td>\n",
       "      <td>183027.0</td>\n",
       "      <td>1927.0</td>\n",
       "      <td>6037</td>\n",
       "      <td>2300.32</td>\n",
       "    </tr>\n",
       "  </tbody>\n",
       "</table>\n",
       "</div>"
      ],
      "text/plain": [
       "      parcel_id  number_bedroom  number_bathroom    sqft  tax_value  \\\n",
       "3036   12146026             0.0              0.0   280.0   963472.0   \n",
       "3241   12227894             0.0              0.0  1208.0   185161.0   \n",
       "4884   12664381             0.0              0.0   128.0    49859.0   \n",
       "10887  14121842             0.0              0.0  1454.0   151824.0   \n",
       "14782  13841412             0.0              0.0  1567.0   226597.0   \n",
       "15685  11953654             0.0              0.0   812.0    22102.0   \n",
       "18657  11712886             0.0              0.0  3087.0   631299.0   \n",
       "20047  11266326             0.0              0.0   400.0    49627.0   \n",
       "20516  12038635             0.0              0.0   554.0   440000.0   \n",
       "23674  14507431             0.0              0.0  4184.0  1145602.0   \n",
       "25615  12554886             0.0              0.0  1064.0   226328.0   \n",
       "26839  12153898             0.0              0.0   682.0    29361.0   \n",
       "29028  12444585             0.0              0.0   738.0    84701.0   \n",
       "29401  11676853             0.0              0.0   660.0   746757.0   \n",
       "31233  11679076             0.0              0.0  1820.0  1034512.0   \n",
       "32189  11283520             0.0              0.0   366.0    62030.0   \n",
       "35463  13890348             0.0              0.0  2016.0   104502.0   \n",
       "36306  12074776             0.0              0.0   360.0    11089.0   \n",
       "40202  11341049             0.0              0.0  1366.0   142806.0   \n",
       "41878  11687003             0.0              0.0  1728.0  3640824.0   \n",
       "42503  12887546             0.0              0.0   816.0   152289.0   \n",
       "46662  11384712             0.0              0.0  1200.0    29855.0   \n",
       "47542  13919043             0.0              0.0  1719.0   125618.0   \n",
       "50246  12399434             0.0              0.0  2307.0   499000.0   \n",
       "51110  12197543             0.0              0.0   984.0   183027.0   \n",
       "\n",
       "       yearbuilt  geographic_code  tax_amount  \n",
       "3036      1953.0             6037    11016.31  \n",
       "3241      1990.0             6037     2558.37  \n",
       "4884      1949.0             6037      849.72  \n",
       "10887     1912.0             6059     2397.46  \n",
       "14782     1914.0             6059     3004.76  \n",
       "15685     1924.0             6037      387.66  \n",
       "18657     1947.0             6037     7731.90  \n",
       "20047     1950.0             6037      703.30  \n",
       "20516     1927.0             6037     5333.15  \n",
       "23674     1964.0             6059    11761.22  \n",
       "25615     1911.0             6037     2770.52  \n",
       "26839     1972.0             6037      451.07  \n",
       "29028     1942.0             6037     1337.61  \n",
       "29401     1928.0             6037     8961.30  \n",
       "31233     1939.0             6037    12614.16  \n",
       "32189     1952.0             6037      840.00  \n",
       "35463     1942.0             6059     1574.84  \n",
       "36306     1925.0             6037      150.58  \n",
       "40202     1950.0             6037     2592.30  \n",
       "41878     1957.0             6037    42229.17  \n",
       "42503     1926.0             6037     2049.01  \n",
       "46662     1988.0             6037      488.32  \n",
       "47542     1949.0             6059     1873.60  \n",
       "50246     1948.0             6037     6315.67  \n",
       "51110     1927.0             6037     2300.32  "
      ]
     },
     "execution_count": 10,
     "metadata": {},
     "output_type": "execute_result"
    }
   ],
   "source": [
    "#Total of 25 properties with zero bedroom and bathroom\n",
    "#We will keep these for now and check later if want to drop it\n",
    "df[(df.number_bedroom == 0) & (df.number_bathroom == 0)]"
   ]
  },
  {
   "cell_type": "code",
   "execution_count": 11,
   "id": "ecfa6c31-a1f2-494d-988a-13e4f6ccac98",
   "metadata": {},
   "outputs": [
    {
     "data": {
      "image/png": "[encoded data removed]",
      "text/plain": [
       "<Figure size 432x288 with 1 Axes>"
      ]
     },
     "metadata": {
      "needs_background": "light"
     },
     "output_type": "display_data"
    },
    {
     "data": {
      "image/png": "[encoded data removed]",
      "text/plain": [
       "<Figure size 432x288 with 1 Axes>"
      ]
     },
     "metadata": {
      "needs_background": "light"
     },
     "output_type": "display_data"
    },
    {
     "data": {
      "image/png": "[encoded data removed]",
      "text/plain": [
       "<Figure size 432x288 with 1 Axes>"
      ]
     },
     "metadata": {
      "needs_background": "light"
     },
     "output_type": "display_data"
    },
    {
     "data": {
      "image/png": "[encoded data removed]",
      "text/plain": [
       "<Figure size 432x288 with 1 Axes>"
      ]
     },
     "metadata": {
      "needs_background": "light"
     },
     "output_type": "display_data"
    },
    {
     "data": {
      "image/png": "[encoded data removed]",
      "text/plain": [
       "<Figure size 432x288 with 1 Axes>"
      ]
     },
     "metadata": {
      "needs_background": "light"
     },
     "output_type": "display_data"
    },
    {
     "data": {
      "image/png": "[encoded data removed]",
      "text/plain": [
       "<Figure size 432x288 with 1 Axes>"
      ]
     },
     "metadata": {
      "needs_background": "light"
     },
     "output_type": "display_data"
    },
    {
     "data": {
      "image/png": "[encoded data removed]",
      "text/plain": [
       "<Figure size 432x288 with 1 Axes>"
      ]
     },
     "metadata": {
      "needs_background": "light"
     },
     "output_type": "display_data"
    }
   ],
   "source": [
    "prepare.distribution(df)"
   ]
  },
  {
   "cell_type": "code",
   "execution_count": 12,
   "id": "33e42882-db9a-4090-a19b-a19eaf6f9ca5",
   "metadata": {},
   "outputs": [
    {
     "data": {
      "image/png": "[encoded data removed]",
      "text/plain": [
       "<Figure size 576x432 with 1 Axes>"
      ]
     },
     "metadata": {
      "needs_background": "light"
     },
     "output_type": "display_data"
    },
    {
     "data": {
      "image/png": "[encoded data removed]",
      "text/plain": [
       "<Figure size 576x432 with 1 Axes>"
      ]
     },
     "metadata": {
      "needs_background": "light"
     },
     "output_type": "display_data"
    },
    {
     "data": {
      "image/png": "[encoded data removed]",
      "text/plain": [
       "<Figure size 576x432 with 1 Axes>"
      ]
     },
     "metadata": {
      "needs_background": "light"
     },
     "output_type": "display_data"
    },
    {
     "data": {
      "image/png": "[encoded data removed]",
      "text/plain": [
       "<Figure size 576x432 with 1 Axes>"
      ]
     },
     "metadata": {
      "needs_background": "light"
     },
     "output_type": "display_data"
    },
    {
     "data": {
      "image/png": "[encoded data removed]",
      "text/plain": [
       "<Figure size 576x432 with 1 Axes>"
      ]
     },
     "metadata": {
      "needs_background": "light"
     },
     "output_type": "display_data"
    },
    {
     "data": {
      "image/png": "[encoded data removed]",
      "text/plain": [
       "<Figure size 576x432 with 1 Axes>"
      ]
     },
     "metadata": {
      "needs_background": "light"
     },
     "output_type": "display_data"
    },
    {
     "data": {
      "image/png": "[encoded data removed]",
      "text/plain": [
       "<Figure size 576x432 with 1 Axes>"
      ]
     },
     "metadata": {
      "needs_background": "light"
     },
     "output_type": "display_data"
    }
   ],
   "source": [
    "prepare.distribution_boxplot(df)"
   ]
  },
  {
   "cell_type": "markdown",
   "id": "307dc583-1bd3-4402-a9e8-515f80a84eb9",
   "metadata": {},
   "source": [
    "- Takeaways\n",
    "\n",
    "    - number_bedroom, number_bathroom, sqft and tax_amount are continous.\n",
    "    - our target is tax_value\n",
    "\n",
    "- Clean data\n",
    "    - Drop duplicates\n",
    "    - Drop nulls\n",
    "    - Change 'parcelid' to a string type\n",
    "    - Rename columns"
   ]
  },
  {
   "cell_type": "code",
   "execution_count": null,
   "id": "3cf4aaec-bd32-47fd-8600-1709ab5f0d75",
   "metadata": {},
   "outputs": [],
   "source": []
  }
 ],
 "metadata": {
  "kernelspec": {
   "display_name": "Python 3 (ipykernel)",
   "language": "python",
   "name": "python3"
  },
  "language_info": {
   "codemirror_mode": {
    "name": "ipython",
    "version": 3
   },
   "file_extension": ".py",
   "mimetype": "text/x-python",
   "name": "python",
   "nbconvert_exporter": "python",
   "pygments_lexer": "ipython3",
   "version": "3.9.7"
  }
 },
 "nbformat": 4,
 "nbformat_minor": 5
}
